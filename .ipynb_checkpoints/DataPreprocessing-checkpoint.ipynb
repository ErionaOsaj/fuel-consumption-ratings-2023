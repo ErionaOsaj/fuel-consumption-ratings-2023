{
 "cells": [
  {
   "cell_type": "code",
   "execution_count": 1,
   "id": "82cfc025",
   "metadata": {},
   "outputs": [],
   "source": [
    "import pandas as pd\n",
    "import seaborn as sns\n",
    "from pprint import pprint"
   ]
  },
  {
   "cell_type": "markdown",
   "id": "acfc623f",
   "metadata": {},
   "source": [
    "# Data Exploration"
   ]
  },
  {
   "cell_type": "code",
   "execution_count": 2,
   "id": "defc5776",
   "metadata": {},
   "outputs": [],
   "source": [
    "dataset = pd.read_csv('Data/fuel-consumption-ratings-2023.csv',encoding='ISO-8859-1')\n",
    "\n"
   ]
  },
  {
   "cell_type": "code",
   "execution_count": 3,
   "id": "ab1284b2",
   "metadata": {},
   "outputs": [
    {
     "name": "stdout",
     "output_type": "stream",
     "text": [
      "Index(['Year', 'Make', 'Model', 'Vehicle Class', 'Engine Size (L)',\n",
      "       'Cylinders', 'Transmission', 'Fuel Type', 'Fuel Consumption (L/100Km)',\n",
      "       'Hwy (L/100 km)', 'Comb (L/100 km)', 'Comb (mpg)',\n",
      "       'CO2 Emissions (g/km)', 'CO2 Rating', 'Smog Rating'],\n",
      "      dtype='object')\n"
     ]
    }
   ],
   "source": [
    "print(dataset.keys())\n"
   ]
  },
  {
   "cell_type": "code",
   "execution_count": 4,
   "id": "10c36b2c",
   "metadata": {
    "scrolled": true
   },
   "outputs": [
    {
     "data": {
      "text/html": [
       "<div>\n",
       "<style scoped>\n",
       "    .dataframe tbody tr th:only-of-type {\n",
       "        vertical-align: middle;\n",
       "    }\n",
       "\n",
       "    .dataframe tbody tr th {\n",
       "        vertical-align: top;\n",
       "    }\n",
       "\n",
       "    .dataframe thead th {\n",
       "        text-align: right;\n",
       "    }\n",
       "</style>\n",
       "<table border=\"1\" class=\"dataframe\">\n",
       "  <thead>\n",
       "    <tr style=\"text-align: right;\">\n",
       "      <th></th>\n",
       "      <th>Year</th>\n",
       "      <th>Make</th>\n",
       "      <th>Model</th>\n",
       "      <th>Vehicle Class</th>\n",
       "      <th>Engine Size (L)</th>\n",
       "      <th>Cylinders</th>\n",
       "      <th>Transmission</th>\n",
       "      <th>Fuel Type</th>\n",
       "      <th>Fuel Consumption (L/100Km)</th>\n",
       "      <th>Hwy (L/100 km)</th>\n",
       "      <th>Comb (L/100 km)</th>\n",
       "      <th>Comb (mpg)</th>\n",
       "      <th>CO2 Emissions (g/km)</th>\n",
       "      <th>CO2 Rating</th>\n",
       "      <th>Smog Rating</th>\n",
       "    </tr>\n",
       "  </thead>\n",
       "  <tbody>\n",
       "    <tr>\n",
       "      <th>0</th>\n",
       "      <td>2023</td>\n",
       "      <td>Acura</td>\n",
       "      <td>Integra</td>\n",
       "      <td>Full-size</td>\n",
       "      <td>1.5</td>\n",
       "      <td>4.0</td>\n",
       "      <td>AV7</td>\n",
       "      <td>Z</td>\n",
       "      <td>7.9</td>\n",
       "      <td>6.3</td>\n",
       "      <td>7.2</td>\n",
       "      <td>39.0</td>\n",
       "      <td>167.0</td>\n",
       "      <td>6.0</td>\n",
       "      <td>7.0</td>\n",
       "    </tr>\n",
       "    <tr>\n",
       "      <th>1</th>\n",
       "      <td>2023</td>\n",
       "      <td>Acura</td>\n",
       "      <td>Integra A-SPEC</td>\n",
       "      <td>Full-size</td>\n",
       "      <td>1.5</td>\n",
       "      <td>4.0</td>\n",
       "      <td>AV7</td>\n",
       "      <td>Z</td>\n",
       "      <td>8.1</td>\n",
       "      <td>6.5</td>\n",
       "      <td>7.4</td>\n",
       "      <td>38.0</td>\n",
       "      <td>172.0</td>\n",
       "      <td>6.0</td>\n",
       "      <td>7.0</td>\n",
       "    </tr>\n",
       "    <tr>\n",
       "      <th>2</th>\n",
       "      <td>2023</td>\n",
       "      <td>Acura</td>\n",
       "      <td>Integra A-SPEC</td>\n",
       "      <td>Full-size</td>\n",
       "      <td>1.5</td>\n",
       "      <td>4.0</td>\n",
       "      <td>M6</td>\n",
       "      <td>Z</td>\n",
       "      <td>8.9</td>\n",
       "      <td>6.5</td>\n",
       "      <td>7.8</td>\n",
       "      <td>36.0</td>\n",
       "      <td>181.0</td>\n",
       "      <td>6.0</td>\n",
       "      <td>6.0</td>\n",
       "    </tr>\n",
       "    <tr>\n",
       "      <th>3</th>\n",
       "      <td>2023</td>\n",
       "      <td>Acura</td>\n",
       "      <td>MDX SH-AWD</td>\n",
       "      <td>SUV: Small</td>\n",
       "      <td>3.5</td>\n",
       "      <td>6.0</td>\n",
       "      <td>AS10</td>\n",
       "      <td>Z</td>\n",
       "      <td>12.6</td>\n",
       "      <td>9.4</td>\n",
       "      <td>11.2</td>\n",
       "      <td>25.0</td>\n",
       "      <td>263.0</td>\n",
       "      <td>4.0</td>\n",
       "      <td>5.0</td>\n",
       "    </tr>\n",
       "    <tr>\n",
       "      <th>4</th>\n",
       "      <td>2023</td>\n",
       "      <td>Acura</td>\n",
       "      <td>MDX SH-AWD Type S</td>\n",
       "      <td>SUV: Standard</td>\n",
       "      <td>3.0</td>\n",
       "      <td>6.0</td>\n",
       "      <td>AS10</td>\n",
       "      <td>Z</td>\n",
       "      <td>13.8</td>\n",
       "      <td>11.2</td>\n",
       "      <td>12.4</td>\n",
       "      <td>23.0</td>\n",
       "      <td>291.0</td>\n",
       "      <td>4.0</td>\n",
       "      <td>5.0</td>\n",
       "    </tr>\n",
       "  </tbody>\n",
       "</table>\n",
       "</div>"
      ],
      "text/plain": [
       "   Year   Make              Model  Vehicle Class  Engine Size (L)  Cylinders  \\\n",
       "0  2023  Acura            Integra      Full-size              1.5        4.0   \n",
       "1  2023  Acura     Integra A-SPEC      Full-size              1.5        4.0   \n",
       "2  2023  Acura     Integra A-SPEC      Full-size              1.5        4.0   \n",
       "3  2023  Acura         MDX SH-AWD     SUV: Small              3.5        6.0   \n",
       "4  2023  Acura  MDX SH-AWD Type S  SUV: Standard              3.0        6.0   \n",
       "\n",
       "  Transmission Fuel Type  Fuel Consumption (L/100Km)  Hwy (L/100 km)  \\\n",
       "0          AV7         Z                         7.9             6.3   \n",
       "1          AV7         Z                         8.1             6.5   \n",
       "2           M6         Z                         8.9             6.5   \n",
       "3         AS10         Z                        12.6             9.4   \n",
       "4         AS10         Z                        13.8            11.2   \n",
       "\n",
       "   Comb (L/100 km)  Comb (mpg)  CO2 Emissions (g/km)  CO2 Rating  Smog Rating  \n",
       "0              7.2        39.0                 167.0         6.0          7.0  \n",
       "1              7.4        38.0                 172.0         6.0          7.0  \n",
       "2              7.8        36.0                 181.0         6.0          6.0  \n",
       "3             11.2        25.0                 263.0         4.0          5.0  \n",
       "4             12.4        23.0                 291.0         4.0          5.0  "
      ]
     },
     "execution_count": 4,
     "metadata": {},
     "output_type": "execute_result"
    }
   ],
   "source": [
    "dataset.head(5)"
   ]
  },
  {
   "cell_type": "code",
   "execution_count": 5,
   "id": "8acd7d78",
   "metadata": {},
   "outputs": [
    {
     "name": "stdout",
     "output_type": "stream",
     "text": [
      "<class 'pandas.core.frame.DataFrame'>\n",
      "RangeIndex: 856 entries, 0 to 855\n",
      "Data columns (total 15 columns):\n",
      " #   Column                      Non-Null Count  Dtype  \n",
      "---  ------                      --------------  -----  \n",
      " 0   Year                        841 non-null    object \n",
      " 1   Make                        854 non-null    object \n",
      " 2   Model                       833 non-null    object \n",
      " 3   Vehicle Class               833 non-null    object \n",
      " 4   Engine Size (L)             833 non-null    float64\n",
      " 5   Cylinders                   833 non-null    float64\n",
      " 6   Transmission                833 non-null    object \n",
      " 7   Fuel Type                   833 non-null    object \n",
      " 8   Fuel Consumption (L/100Km)  833 non-null    float64\n",
      " 9   Hwy (L/100 km)              833 non-null    float64\n",
      " 10  Comb (L/100 km)             833 non-null    float64\n",
      " 11  Comb (mpg)                  833 non-null    float64\n",
      " 12  CO2 Emissions (g/km)        833 non-null    float64\n",
      " 13  CO2 Rating                  833 non-null    float64\n",
      " 14  Smog Rating                 833 non-null    float64\n",
      "dtypes: float64(9), object(6)\n",
      "memory usage: 100.4+ KB\n"
     ]
    }
   ],
   "source": [
    "dataset.info() # our dataset dimensionality is 15 with 856 number of rows."
   ]
  },
  {
   "cell_type": "code",
   "execution_count": 6,
   "id": "fa1e5b4e",
   "metadata": {
    "scrolled": true
   },
   "outputs": [
    {
     "data": {
      "text/html": [
       "<div>\n",
       "<style scoped>\n",
       "    .dataframe tbody tr th:only-of-type {\n",
       "        vertical-align: middle;\n",
       "    }\n",
       "\n",
       "    .dataframe tbody tr th {\n",
       "        vertical-align: top;\n",
       "    }\n",
       "\n",
       "    .dataframe thead th {\n",
       "        text-align: right;\n",
       "    }\n",
       "</style>\n",
       "<table border=\"1\" class=\"dataframe\">\n",
       "  <thead>\n",
       "    <tr style=\"text-align: right;\">\n",
       "      <th></th>\n",
       "      <th>Engine Size (L)</th>\n",
       "      <th>Cylinders</th>\n",
       "      <th>Fuel Consumption (L/100Km)</th>\n",
       "      <th>Hwy (L/100 km)</th>\n",
       "      <th>Comb (L/100 km)</th>\n",
       "      <th>Comb (mpg)</th>\n",
       "      <th>CO2 Emissions (g/km)</th>\n",
       "      <th>CO2 Rating</th>\n",
       "      <th>Smog Rating</th>\n",
       "    </tr>\n",
       "  </thead>\n",
       "  <tbody>\n",
       "    <tr>\n",
       "      <th>count</th>\n",
       "      <td>833.000000</td>\n",
       "      <td>833.000000</td>\n",
       "      <td>833.000000</td>\n",
       "      <td>833.000000</td>\n",
       "      <td>833.000000</td>\n",
       "      <td>833.000000</td>\n",
       "      <td>833.000000</td>\n",
       "      <td>833.000000</td>\n",
       "      <td>833.000000</td>\n",
       "    </tr>\n",
       "    <tr>\n",
       "      <th>mean</th>\n",
       "      <td>3.147899</td>\n",
       "      <td>5.627851</td>\n",
       "      <td>12.431453</td>\n",
       "      <td>9.353661</td>\n",
       "      <td>11.047179</td>\n",
       "      <td>27.375750</td>\n",
       "      <td>257.471789</td>\n",
       "      <td>4.522209</td>\n",
       "      <td>5.236495</td>\n",
       "    </tr>\n",
       "    <tr>\n",
       "      <th>std</th>\n",
       "      <td>1.353076</td>\n",
       "      <td>1.968695</td>\n",
       "      <td>3.456191</td>\n",
       "      <td>2.302312</td>\n",
       "      <td>2.878308</td>\n",
       "      <td>7.559968</td>\n",
       "      <td>64.262847</td>\n",
       "      <td>1.279385</td>\n",
       "      <td>1.665693</td>\n",
       "    </tr>\n",
       "    <tr>\n",
       "      <th>min</th>\n",
       "      <td>1.200000</td>\n",
       "      <td>3.000000</td>\n",
       "      <td>4.400000</td>\n",
       "      <td>4.400000</td>\n",
       "      <td>4.400000</td>\n",
       "      <td>11.000000</td>\n",
       "      <td>104.000000</td>\n",
       "      <td>1.000000</td>\n",
       "      <td>1.000000</td>\n",
       "    </tr>\n",
       "    <tr>\n",
       "      <th>25%</th>\n",
       "      <td>2.000000</td>\n",
       "      <td>4.000000</td>\n",
       "      <td>10.100000</td>\n",
       "      <td>7.700000</td>\n",
       "      <td>9.000000</td>\n",
       "      <td>22.000000</td>\n",
       "      <td>211.000000</td>\n",
       "      <td>4.000000</td>\n",
       "      <td>5.000000</td>\n",
       "    </tr>\n",
       "    <tr>\n",
       "      <th>50%</th>\n",
       "      <td>3.000000</td>\n",
       "      <td>6.000000</td>\n",
       "      <td>12.100000</td>\n",
       "      <td>9.100000</td>\n",
       "      <td>10.700000</td>\n",
       "      <td>26.000000</td>\n",
       "      <td>254.000000</td>\n",
       "      <td>5.000000</td>\n",
       "      <td>5.000000</td>\n",
       "    </tr>\n",
       "    <tr>\n",
       "      <th>75%</th>\n",
       "      <td>3.600000</td>\n",
       "      <td>6.000000</td>\n",
       "      <td>14.600000</td>\n",
       "      <td>10.700000</td>\n",
       "      <td>12.900000</td>\n",
       "      <td>31.000000</td>\n",
       "      <td>299.000000</td>\n",
       "      <td>5.000000</td>\n",
       "      <td>7.000000</td>\n",
       "    </tr>\n",
       "    <tr>\n",
       "      <th>max</th>\n",
       "      <td>8.000000</td>\n",
       "      <td>16.000000</td>\n",
       "      <td>30.300000</td>\n",
       "      <td>20.900000</td>\n",
       "      <td>26.100000</td>\n",
       "      <td>64.000000</td>\n",
       "      <td>608.000000</td>\n",
       "      <td>9.000000</td>\n",
       "      <td>8.000000</td>\n",
       "    </tr>\n",
       "  </tbody>\n",
       "</table>\n",
       "</div>"
      ],
      "text/plain": [
       "       Engine Size (L)   Cylinders  Fuel Consumption (L/100Km)  \\\n",
       "count       833.000000  833.000000                  833.000000   \n",
       "mean          3.147899    5.627851                   12.431453   \n",
       "std           1.353076    1.968695                    3.456191   \n",
       "min           1.200000    3.000000                    4.400000   \n",
       "25%           2.000000    4.000000                   10.100000   \n",
       "50%           3.000000    6.000000                   12.100000   \n",
       "75%           3.600000    6.000000                   14.600000   \n",
       "max           8.000000   16.000000                   30.300000   \n",
       "\n",
       "       Hwy (L/100 km)  Comb (L/100 km)  Comb (mpg)  CO2 Emissions (g/km)  \\\n",
       "count      833.000000       833.000000  833.000000            833.000000   \n",
       "mean         9.353661        11.047179   27.375750            257.471789   \n",
       "std          2.302312         2.878308    7.559968             64.262847   \n",
       "min          4.400000         4.400000   11.000000            104.000000   \n",
       "25%          7.700000         9.000000   22.000000            211.000000   \n",
       "50%          9.100000        10.700000   26.000000            254.000000   \n",
       "75%         10.700000        12.900000   31.000000            299.000000   \n",
       "max         20.900000        26.100000   64.000000            608.000000   \n",
       "\n",
       "       CO2 Rating  Smog Rating  \n",
       "count  833.000000   833.000000  \n",
       "mean     4.522209     5.236495  \n",
       "std      1.279385     1.665693  \n",
       "min      1.000000     1.000000  \n",
       "25%      4.000000     5.000000  \n",
       "50%      5.000000     5.000000  \n",
       "75%      5.000000     7.000000  \n",
       "max      9.000000     8.000000  "
      ]
     },
     "execution_count": 6,
     "metadata": {},
     "output_type": "execute_result"
    }
   ],
   "source": [
    "dataset.describe()"
   ]
  },
  {
   "cell_type": "code",
   "execution_count": 7,
   "id": "006c2f2d",
   "metadata": {},
   "outputs": [
    {
     "data": {
      "text/plain": [
       "0"
      ]
     },
     "execution_count": 7,
     "metadata": {},
     "output_type": "execute_result"
    }
   ],
   "source": [
    "dataset.duplicated().sum()\n"
   ]
  },
  {
   "cell_type": "code",
   "execution_count": 8,
   "id": "d3c3096c",
   "metadata": {},
   "outputs": [
    {
     "data": {
      "text/plain": [
       "Year                          15\n",
       "Make                           2\n",
       "Model                         23\n",
       "Vehicle Class                 23\n",
       "Engine Size (L)               23\n",
       "Cylinders                     23\n",
       "Transmission                  23\n",
       "Fuel Type                     23\n",
       "Fuel Consumption (L/100Km)    23\n",
       "Hwy (L/100 km)                23\n",
       "Comb (L/100 km)               23\n",
       "Comb (mpg)                    23\n",
       "CO2 Emissions (g/km)          23\n",
       "CO2 Rating                    23\n",
       "Smog Rating                   23\n",
       "dtype: int64"
      ]
     },
     "execution_count": 8,
     "metadata": {},
     "output_type": "execute_result"
    }
   ],
   "source": [
    "dataset.isnull().sum(axis = 0) # we have a small number of null values to handle"
   ]
  },
  {
   "cell_type": "code",
   "execution_count": 9,
   "id": "cb720b06",
   "metadata": {},
   "outputs": [
    {
     "data": {
      "text/html": [
       "<div>\n",
       "<style scoped>\n",
       "    .dataframe tbody tr th:only-of-type {\n",
       "        vertical-align: middle;\n",
       "    }\n",
       "\n",
       "    .dataframe tbody tr th {\n",
       "        vertical-align: top;\n",
       "    }\n",
       "\n",
       "    .dataframe thead th {\n",
       "        text-align: right;\n",
       "    }\n",
       "</style>\n",
       "<table border=\"1\" class=\"dataframe\">\n",
       "  <thead>\n",
       "    <tr style=\"text-align: right;\">\n",
       "      <th></th>\n",
       "      <th>Year</th>\n",
       "      <th>Make</th>\n",
       "      <th>Model</th>\n",
       "      <th>Vehicle Class</th>\n",
       "      <th>Transmission</th>\n",
       "      <th>Fuel Type</th>\n",
       "    </tr>\n",
       "  </thead>\n",
       "  <tbody>\n",
       "    <tr>\n",
       "      <th>count</th>\n",
       "      <td>841</td>\n",
       "      <td>854</td>\n",
       "      <td>833</td>\n",
       "      <td>833</td>\n",
       "      <td>833</td>\n",
       "      <td>833</td>\n",
       "    </tr>\n",
       "    <tr>\n",
       "      <th>unique</th>\n",
       "      <td>9</td>\n",
       "      <td>60</td>\n",
       "      <td>657</td>\n",
       "      <td>14</td>\n",
       "      <td>23</td>\n",
       "      <td>4</td>\n",
       "    </tr>\n",
       "    <tr>\n",
       "      <th>top</th>\n",
       "      <td>2023</td>\n",
       "      <td>Ford</td>\n",
       "      <td>Mustang</td>\n",
       "      <td>SUV: Small</td>\n",
       "      <td>AS8</td>\n",
       "      <td>Z</td>\n",
       "    </tr>\n",
       "    <tr>\n",
       "      <th>freq</th>\n",
       "      <td>833</td>\n",
       "      <td>93</td>\n",
       "      <td>5</td>\n",
       "      <td>195</td>\n",
       "      <td>199</td>\n",
       "      <td>408</td>\n",
       "    </tr>\n",
       "  </tbody>\n",
       "</table>\n",
       "</div>"
      ],
      "text/plain": [
       "        Year  Make    Model Vehicle Class Transmission Fuel Type\n",
       "count    841   854      833           833          833       833\n",
       "unique     9    60      657            14           23         4\n",
       "top     2023  Ford  Mustang    SUV: Small          AS8         Z\n",
       "freq     833    93        5           195          199       408"
      ]
     },
     "execution_count": 9,
     "metadata": {},
     "output_type": "execute_result"
    }
   ],
   "source": [
    "dataset.describe(include=['object'])\n",
    "#we should check if we should treat year as numerical or categorical variable"
   ]
  },
  {
   "cell_type": "code",
   "execution_count": 10,
   "id": "597e1dfb",
   "metadata": {},
   "outputs": [
    {
     "name": "stdout",
     "output_type": "stream",
     "text": [
      "['2023' nan 'Understanding the table' 'Model' 'Transmission' 'Fuel type'\n",
      " 'Fuel consumption' 'CO2 emissions' 'CO2 rating' 'Smog rating']\n"
     ]
    }
   ],
   "source": [
    "print(dataset['Year'].unique()) # we have noisy data in year column\n",
    "\n"
   ]
  },
  {
   "cell_type": "code",
   "execution_count": 11,
   "id": "ad10ecee",
   "metadata": {},
   "outputs": [],
   "source": [
    "def display_unique_values(df, column_name):\n",
    "    pd.set_option('display.max_rows', None)\n",
    "\n",
    "    value_counts = df[column_name].value_counts()\n",
    "\n",
    "    unique_values_df = pd.DataFrame({\n",
    "    'Unique_Values': value_counts.index,\n",
    "    'Record_Count': value_counts.values\n",
    "    })\n",
    "    pd.reset_option('display.max_rows')\n",
    "\n",
    "    print(unique_values_df)"
   ]
  },
  {
   "cell_type": "code",
   "execution_count": 12,
   "id": "1f5ce79c",
   "metadata": {},
   "outputs": [
    {
     "name": "stdout",
     "output_type": "stream",
     "text": [
      "             Unique_Values  Record_Count\n",
      "0                     2023           833\n",
      "1  Understanding the table             1\n",
      "2                    Model             1\n",
      "3             Transmission             1\n",
      "4                Fuel type             1\n",
      "5         Fuel consumption             1\n",
      "6            CO2 emissions             1\n",
      "7               CO2 rating             1\n",
      "8              Smog rating             1\n"
     ]
    }
   ],
   "source": [
    "display_unique_values(dataset,'Year')\n",
    "#we dont have too much noisy data and we can choose to treat them as null or remove column entirely"
   ]
  },
  {
   "cell_type": "code",
   "execution_count": 13,
   "id": "b76df976",
   "metadata": {
    "scrolled": true
   },
   "outputs": [
    {
     "name": "stdout",
     "output_type": "stream",
     "text": [
      "array(['Full-size', 'SUV: Small', 'SUV: Standard', 'Compact', 'Mid-size',\n",
      "       'Minicompact', 'Two-seater', 'Subcompact', 'Station wagon: Small',\n",
      "       'Station wagon: Mid-size', 'Pickup truck: Small',\n",
      "       'Pickup truck: Standard', 'Minivan', 'Special purpose vehicle',\n",
      "       nan], dtype=object)\n"
     ]
    }
   ],
   "source": [
    "pprint(dataset['Vehicle Class'].unique())\n"
   ]
  },
  {
   "cell_type": "code",
   "execution_count": 14,
   "id": "c80c245b",
   "metadata": {},
   "outputs": [
    {
     "name": "stdout",
     "output_type": "stream",
     "text": [
      "              Unique_Values  Record_Count\n",
      "0                SUV: Small           195\n",
      "1             SUV: Standard           135\n",
      "2                  Mid-size           112\n",
      "3    Pickup truck: Standard            97\n",
      "4                Subcompact            75\n",
      "5                   Compact            62\n",
      "6                 Full-size            48\n",
      "7                Two-seater            35\n",
      "8               Minicompact            22\n",
      "9       Pickup truck: Small            17\n",
      "10     Station wagon: Small            14\n",
      "11  Station wagon: Mid-size             9\n",
      "12                  Minivan             7\n",
      "13  Special purpose vehicle             5\n"
     ]
    }
   ],
   "source": [
    "display_unique_values(dataset,'Vehicle Class')\n"
   ]
  },
  {
   "cell_type": "code",
   "execution_count": 15,
   "id": "6767375c",
   "metadata": {},
   "outputs": [
    {
     "name": "stdout",
     "output_type": "stream",
     "text": [
      "['AV7' 'M6' 'AS10' 'A8' 'A9' 'AM7' 'AS8' 'AM8' 'AV' 'AS9' 'A10' 'A6' 'M7'\n",
      " 'AV1' 'AM6' 'AS7' 'AV8' 'AV6' 'AS6' 'AV10' 'M5' 'AS5' 'A7' nan]\n"
     ]
    }
   ],
   "source": [
    "print(dataset['Transmission'].unique())\n"
   ]
  },
  {
   "cell_type": "code",
   "execution_count": 16,
   "id": "96054f6a",
   "metadata": {},
   "outputs": [
    {
     "name": "stdout",
     "output_type": "stream",
     "text": [
      "   Unique_Values  Record_Count\n",
      "0            AS8           199\n",
      "1             A8           105\n",
      "2           AS10           102\n",
      "3             A9            69\n",
      "4            A10            59\n",
      "5             M6            57\n",
      "6            AM7            49\n",
      "7             AV            40\n",
      "8            AS6            27\n",
      "9            AM8            24\n",
      "10           AV8            23\n",
      "11           AS9            22\n",
      "12           AV6            10\n",
      "13           AM6             9\n",
      "14           AV7             9\n",
      "15          AV10             7\n",
      "16            M7             6\n",
      "17           AS7             4\n",
      "18           AV1             4\n",
      "19            M5             3\n",
      "20           AS5             2\n",
      "21            A6             2\n",
      "22            A7             1\n"
     ]
    }
   ],
   "source": [
    "display_unique_values(dataset,'Transmission')\n"
   ]
  },
  {
   "cell_type": "code",
   "execution_count": 17,
   "id": "2873eb48",
   "metadata": {},
   "outputs": [
    {
     "name": "stdout",
     "output_type": "stream",
     "text": [
      "['Z' 'X' 'D' 'E' nan]\n"
     ]
    }
   ],
   "source": [
    "print(dataset['Fuel Type'].unique())\n"
   ]
  },
  {
   "cell_type": "code",
   "execution_count": 18,
   "id": "3347e677",
   "metadata": {},
   "outputs": [
    {
     "name": "stdout",
     "output_type": "stream",
     "text": [
      "  Unique_Values  Record_Count\n",
      "0             Z           408\n",
      "1             X           390\n",
      "2             D            20\n",
      "3             E            15\n"
     ]
    }
   ],
   "source": [
    "display_unique_values(dataset,'Fuel Type')\n"
   ]
  },
  {
   "cell_type": "code",
   "execution_count": 19,
   "id": "6db1afa2",
   "metadata": {
    "scrolled": true
   },
   "outputs": [
    {
     "name": "stdout",
     "output_type": "stream",
     "text": [
      "['Acura' 'Alfa Romeo' 'Aston Martin' 'Audi' 'Bentley' 'BMW' 'Bugatti'\n",
      " 'Buick' 'Cadillac' 'Chevrolet' 'Chrysler' 'Dodge' 'FIAT' 'Ford' 'Genesis'\n",
      " 'GMC' 'Honda' 'Hyundai' 'Infiniti' 'Jaguar' 'Jeep' 'Kia' 'Lamborghini'\n",
      " 'Land Rover' 'Lexus' 'Lincoln' 'Maserati' 'Mazda' 'Mercedes-Benz' 'MINI'\n",
      " 'Mitsubishi' 'Nissan' 'Porsche' 'Ram' 'Rolls-Royce' 'Subaru' 'Toyota'\n",
      " 'Volkswagen' 'Volvo' nan '4WD/4X4 = Four-wheel drive'\n",
      " 'AWD = All-wheel drive' 'FFV = Flexible-fuel vehicle'\n",
      " 'SWB = Short wheelbase' 'LWB = Long wheelbase' 'EWB = Extended wheelbase'\n",
      " 'A = automatic' 'AM = automated manual'\n",
      " 'AS = automatic with select shift' 'AV = continuously variable'\n",
      " 'M = manual' '3 \\x96 10 = Number of gears' 'X = regular gasoline'\n",
      " 'Z = premium gasoline' 'D = diesel' 'E = ethanol (E85)' 'N = natural gas'\n",
      " 'City and highway fuel consumption ratings are shown in litres per 100 kilometres (L/100 km) - the combined rating (55% city, 45% hwy) is shown in L/100 km and in miles per imperial gallon (mpg)'\n",
      " 'the tailpipe emissions of carbon dioxide (in grams per kilometre) for combined city and highway driving'\n",
      " 'the tailpipe emissions of carbon dioxide rated on a scale from 1 (worst) to 10 (best)'\n",
      " 'the tailpipe emissions of smog-forming pollutants rated on a scale from 1 (worst) to 10 (best)']\n"
     ]
    }
   ],
   "source": [
    "print(dataset['Make'].unique())# we should study if some values are noisy\n"
   ]
  },
  {
   "cell_type": "code",
   "execution_count": 20,
   "id": "7c5258ba",
   "metadata": {},
   "outputs": [
    {
     "name": "stdout",
     "output_type": "stream",
     "text": [
      "                                        Unique_Values  Record_Count\n",
      "0                                                Ford            93\n",
      "1                                           Chevrolet            55\n",
      "2                                       Mercedes-Benz            54\n",
      "3                                                 BMW            51\n",
      "4                                              Toyota            46\n",
      "5                                                Audi            44\n",
      "6                                                 GMC            36\n",
      "7                                                Jeep            30\n",
      "8                                              Nissan            27\n",
      "9                                               Lexus            26\n",
      "10                                           Cadillac            26\n",
      "11                                               MINI            25\n",
      "12                                                Kia            23\n",
      "13                                            Hyundai            23\n",
      "14                                              Dodge            23\n",
      "15                                              Honda            22\n",
      "16                                              Mazda            21\n",
      "17                                         Land Rover            21\n",
      "18                                         Volkswagen            19\n",
      "19                                           Maserati            17\n",
      "20                                             Subaru            17\n",
      "21                                              Volvo            12\n",
      "22                                             Jaguar            12\n",
      "23                                                Ram            11\n",
      "24                                              Acura            10\n",
      "25                                            Bentley             9\n",
      "26                                            Genesis             9\n",
      "27                                            Lincoln             8\n",
      "28                                         Alfa Romeo             7\n",
      "29                                        Rolls-Royce             7\n",
      "30                                         Mitsubishi             7\n",
      "31                                           Chrysler             7\n",
      "32                                       Aston Martin             7\n",
      "33                                        Lamborghini             6\n",
      "34                                           Infiniti             6\n",
      "35                                              Buick             6\n",
      "36                                            Porsche             6\n",
      "37                                            Bugatti             3\n",
      "38                                  E = ethanol (E85)             1\n",
      "39                               X = regular gasoline             1\n",
      "40                               Z = premium gasoline             1\n",
      "41                                         D = diesel             1\n",
      "42  the tailpipe emissions of carbon dioxide (in g...             1\n",
      "43                                    N = natural gas             1\n",
      "44  City and highway fuel consumption ratings are ...             1\n",
      "45                                         M = manual             1\n",
      "46  the tailpipe emissions of carbon dioxide rated...             1\n",
      "47                           3  10 = Number of gears             1\n",
      "48                                      A = automatic             1\n",
      "49                         AV = continuously variable             1\n",
      "50                   AS = automatic with select shift             1\n",
      "51                              AM = automated manual             1\n",
      "52                           EWB = Extended wheelbase             1\n",
      "53                               LWB = Long wheelbase             1\n",
      "54                              SWB = Short wheelbase             1\n",
      "55                        FFV = Flexible-fuel vehicle             1\n",
      "56                              AWD = All-wheel drive             1\n",
      "57                         4WD/4X4 = Four-wheel drive             1\n",
      "58                                               FIAT             1\n",
      "59  the tailpipe emissions of smog-forming polluta...             1\n"
     ]
    }
   ],
   "source": [
    "\n",
    "display_unique_values(dataset,'Make')\n"
   ]
  },
  {
   "cell_type": "code",
   "execution_count": 21,
   "id": "7b1640d3",
   "metadata": {
    "scrolled": false
   },
   "outputs": [
    {
     "name": "stdout",
     "output_type": "stream",
     "text": [
      "['Integra' 'Integra A-SPEC' 'MDX SH-AWD' 'MDX SH-AWD Type S' 'RDX SH-AWD'\n",
      " 'RDX SH-AWD A-SPEC' 'TLX SH-AWD' 'TLX SH-AWD A-SPEC' 'TLX Type S'\n",
      " 'Giulia' 'Giulia AWD' 'Giulia Quadrifoglio' 'Stelvio' 'Stelvio AWD'\n",
      " 'Stelvio AWD Quadrifoglio' 'Tonale AWD' 'DB11 V8' 'DB11 V12' 'DBS V12'\n",
      " 'DBX V8' 'DBX707' 'Vantage V8' 'V12 Vantage' 'A3 40 TFSI quattro'\n",
      " 'A4 Sedan 45 TFSI quattro' 'A4 allroad 45 TFSI quattro'\n",
      " 'A5 Cabriolet 45 TFSI quattro' 'A5 Coupé 45 TFSI quattro'\n",
      " 'A5 Sportback 45 TFSI quattro' 'A6 45 TFSI quattro' 'A6 55 TFSI quattro'\n",
      " 'A6 allroad 55 TFSI quattro' 'A7 Sportback 55 TFSI quattro'\n",
      " 'A8 L Sedan 55 TFSI quattro' 'Q3 40 TFSI quattro' 'Q3 45 TFSI quattro'\n",
      " 'Q5 40 TFSI quattro' 'Q5 45 TFSI quattro' 'Q5 Sportback 45 TFSI quattro'\n",
      " 'Q7 45 TFSI quattro' 'Q7 55 TFSI quattro' 'Q8 55 TFSI quattro'\n",
      " 'R8 Coupé Performance' 'R8 Coupé Performance quattro'\n",
      " 'R8 Spyder Performance' 'R8 Spyder Performance quattro' 'R8 GT Coupé'\n",
      " 'RS 5 Coupé quattro' 'RS 5 Sportback quattro' 'RS 6 Avant quattro'\n",
      " 'RS 7 Sportback quattro' 'RS Q8 quattro' 'S3 quattro' 'S4 Sedan quattro'\n",
      " 'S5 Cabriolet quattro' 'S5 Coupé quattro' 'S5 Sportback quattro'\n",
      " 'S6 quattro' 'S7 quattro' 'S8 Sedan quattro' 'SQ5 quattro'\n",
      " 'SQ5 Sportback quattro' 'SQ7 quattro' 'SQ8 quattro'\n",
      " 'TT Coupé 45 TFSI quattro' 'TT Roadster 45 TFSI quattro'\n",
      " 'TTS Coupé quattro' 'Bentayga' 'Bentayga EWB' 'Bentayga Speed'\n",
      " 'Continental GT' 'Continental GT Speed' 'Continental GTC'\n",
      " 'Continental GTC Speed' 'Flying Spur' 'Flying Spur Speed'\n",
      " '230i xDrive Coupe' '330i xDrive Sedan' '430i xDrive Cabriolet'\n",
      " '430i xDrive Coupe' '530i xDrive Sedan' '540i xDrive Sedan'\n",
      " '760i xDrive Sedan' 'ALPINA B8 Gran Coupe' 'ALPINA XB7' 'M2 Coupe'\n",
      " 'M240i xDrive Coupe' 'M3 Sedan' 'M3 Competition M xDrive Sedan'\n",
      " 'M340i xDrive Sedan' 'M4 Competition M xDrive Cabriolet' 'M4 Coupe'\n",
      " 'M4 Competition M xDrive Coupe' 'M4 CSL Coupe' 'M440i xDrive Cabriolet'\n",
      " 'M440i xDrive Coupe' 'M5 Sedan' 'M5 Competition Sedan'\n",
      " 'M550i xDrive Sedan' 'M8 Competition Cabriolet' 'M8 Competition Coupe'\n",
      " 'M8 Competition Gran Coupe' 'M850i xDrive Cabriolet' 'M850i xDrive Coupe'\n",
      " 'M850i xDrive Gran Coupe' 'X1 xDrive28i' 'X3 xDrive30i' 'X3 M'\n",
      " 'X3 M Competition' 'X3 M40i' 'X4 xDrive30i' 'X4 M' 'X4 M Competition'\n",
      " 'X4 M40i' 'X5 xDrive40i' 'X5 M' 'X5 M Competition' 'X5 M50i'\n",
      " 'X6 xDrive40i' 'X6 M' 'X6 M Competition' 'X6 M50i' 'X7 xDrive40i'\n",
      " 'X7 M60i xDrive' 'Z4 sDrive30i' 'Z4 M40i' 'Chiron' 'Chiron Pur Sport'\n",
      " 'Chiron Super Sport' 'Enclave AWD' 'Encore GX' 'Encore GX AWD' 'Envision'\n",
      " 'Envision AWD' 'CT4' 'CT4 AWD' 'CT4-V' 'CT4-V AWD' 'CT4-V Blackwing'\n",
      " 'CT5' 'CT5 AWD' 'CT5-V' 'CT5-V AWD' 'CT5-V Blackwing' 'Escalade 4WD'\n",
      " 'Escalade-V AWD' 'XT4' 'XT4 AWD' 'XT5' 'XT5 AWD' 'XT6 AWD' 'Blazer'\n",
      " 'Blazer AWD' 'Camaro' 'Camaro SS' 'Camaro ZL1' 'Colorado'\n",
      " 'Colorado (Turbo Plus)' 'Colorado 4WD' 'Colorado 4WD (Turbo Plus)'\n",
      " 'Colorado 4WD Mud Terrain Tire (Turbo Plus)' 'Colorado ZR2 4WD'\n",
      " 'Corvette' 'Corvette Z06' 'Corvette Z06 Carbon Aero' 'Equinox'\n",
      " 'Equinox AWD' 'Malibu' 'Silverado' 'Silverado FFV' 'Silverado 4WD'\n",
      " 'Silverado 4WD Mud Terrain Tire' 'Silverado 4WD FFV'\n",
      " 'Silverado 4WD Mud Terrain Tire FFV' 'Silverado 4WD ZR2' 'Suburban'\n",
      " 'Suburban 4WD' 'Tahoe' 'Tahoe 4WD' 'Trailblazer' 'Trailblazer AWD'\n",
      " 'Traverse AWD' '300' '300 AWD' '300C' 'Grand Caravan' 'Pacifica'\n",
      " 'Pacifica AWD' 'Challenger' 'Challenger (MDS)' 'Challenger AWD'\n",
      " 'Challenger Widebody (MDS)' 'Challenger Widebody'\n",
      " 'Challenger SRT Hellcat' 'Challenger SRT Hellcat Widebody' 'Charger'\n",
      " 'Charger (MDS)' 'Charger AWD' 'Charger Widebody (MDS)'\n",
      " 'Charger SRT Hellcat Widebody' 'Durango AWD' 'Durango AWD SRT'\n",
      " 'Durango AWD SRT Hellcat' 'Hornet AWD' '500X AWD' 'Bronco 4WD'\n",
      " 'Bronco Badlands 4WD' 'Bronco Black Diamond 4WD' 'Bronco Raptor 4WD'\n",
      " 'Bronco Sasquatch 4WD' 'Bronco Sport 4WD' 'Edge AWD' 'Escape'\n",
      " 'Escape AWD' 'Escape Hybrid' 'Escape Hybrid AWD' 'Expedition 4X4'\n",
      " 'Expedition 4X4 (Without Stop-Start)' 'Expedition Timberline 4X4'\n",
      " 'Expedition Timberline 4X4 (Without Stop-Start)' 'Explorer AWD'\n",
      " 'Explorer AWD (Without Stop-Start)' 'Explorer Timberline AWD'\n",
      " 'Explorer Timberline AWD (Without Stop-Start)' 'Explorer Hybrid AWD'\n",
      " 'F-150' 'F-150 (Without Stop-Start)' 'F-150 FFV'\n",
      " 'F-150 FFV (Without Stop-Start)' 'F-150 4X4'\n",
      " 'F-150 4X4 (Without Stop-Start)' 'F-150 4X4 FFV'\n",
      " 'F-150 4X4 FFV (Without Stop-Start)' 'F-150 Raptor 4X4'\n",
      " 'F-150 Raptor 4X4 (Without Stop-Start)' 'F-150 Raptor 37 4X4'\n",
      " 'F-150 Raptor 37 4X4 (Without Stop-Start)' 'F-150 Raptor R 4X4'\n",
      " 'F-150 Tremor 4X4' 'F-150 Tremor 4X4 (Without Stop-Start)'\n",
      " 'F-150 Tremor 4X4 FFV' 'F-150 Tremor 4X4 FFV (Without Stop-Start)'\n",
      " 'F-150 Hybrid' 'F-150 Hybrid 4X4' 'Maverick AWD' 'Maverick Tremor AWD'\n",
      " 'Maverick Hybrid' 'Mustang' 'Mustang (High Performance)'\n",
      " 'Mustang Convertible' 'Mustang Convertible (High Performance)'\n",
      " 'Mustang Mach 1' 'Ranger 4WD' 'Ranger 4WD (Without Stop-Start)'\n",
      " 'Ranger Tremor 4WD' 'Transit Connect Van' 'Transit Connect Wagon LWB'\n",
      " 'G70 AWD' 'G80 AWD' 'G90' 'GV70 AWD' 'GV80 AWD' 'Acadia AWD' 'Canyon'\n",
      " 'Canyon 4WD' 'Canyon 4WD Mud Terrain Tire' 'Canyon AT4X 4WD' 'Sierra'\n",
      " 'Sierra FFV' 'Sierra 4WD' 'Sierra 4WD Mud Terrain Tire' 'Sierra 4WD FFV'\n",
      " 'Sierra 4WD Mud Terrain Tire FFV' 'Sierra 4WD AT4X' 'Terrain'\n",
      " 'Terrain AWD' 'Yukon' 'Yukon 4WD' 'Yukon XL' 'Yukon XL 4WD' 'Accord'\n",
      " 'Accord Hybrid Sport/Touring' 'Civic Hatchback' 'Civic Sedan'\n",
      " 'Civic Sedan Si' 'Civic Type R' 'CR-V' 'CR-V AWD' 'CR-V Hybrid AWD'\n",
      " 'HR-V' 'HR-V AWD' 'Odyssey' 'Passport AWD' 'Pilot AWD'\n",
      " 'Pilot AWD Touring/Elite/Black' 'Pilot AWD TrailSport' 'Ridgeline AWD'\n",
      " 'Elantra' 'Elantra (ISG)' 'Elantra N' 'Elantra Hybrid' 'Kona' 'Kona N'\n",
      " 'Kona AWD' 'Palisade AWD' 'Santa Cruz AWD' 'Santa Fe AWD'\n",
      " 'Santa Fe Hybrid' 'Sonata' 'Sonata Hybrid' 'Tucson' 'Tucson AWD'\n",
      " 'Tucson Hybrid' 'Venue' 'Q50 AWD' 'Q50 AWD Red Sport' 'QX50 AWD'\n",
      " 'QX55 AWD' 'QX60 AWD' 'QX80 4WD' 'E-PACE P250' 'F-PACE P250'\n",
      " 'F-PACE P400' 'F-PACE P550 SVR' 'F-TYPE P450 Convertible'\n",
      " 'F-TYPE P450 Convertible AWD' 'F-TYPE P450 Coupe' 'F-TYPE P450 Coupe AWD'\n",
      " 'F-TYPE R Convertible AWD' 'F-TYPE R Coupe AWD' 'XF P250' 'XF P300 AWD'\n",
      " 'Cherokee 4X4 Active Drive I' 'Cherokee 4X4 Trailhawk Active Drive Lock'\n",
      " 'Compass 4X4' 'Gladiator 4X4 EcoDiesel' 'Gladiator 4X4 Rubicon EcoDiesel'\n",
      " 'Gladiator 4X4' 'Grand Cherokee 4X4' 'Grand Cherokee L 4X4'\n",
      " 'Grand Wagoneer 4X4 (High Output)' 'Grand Wagoneer 4X4'\n",
      " 'Grand Wagoneer L 4X4 (High Output)' 'Renegade 4X4'\n",
      " 'Renegade 4X4 Trailhawk' 'Wagoneer 4X4' 'Wagoneer L 4X4'\n",
      " 'Wrangler JL 4X4' 'Wrangler JL 4X4 eTorque' 'Wrangler JL Unlimited 4X4'\n",
      " 'Wrangler JL Unlimited 4X4 EcoDiesel'\n",
      " 'Wrangler JL Unlimited 4X4 Rubicon EcoDiesel'\n",
      " 'Wrangler JL Unlimited 4X4 eTorque' 'Wrangler JL Unlimited 4X4 392'\n",
      " 'Carnival' 'Forte' 'Forte 5' 'K5' 'K5 AWD' 'Niro' 'Niro FE' 'Rio'\n",
      " 'Seltos' 'Seltos AWD' 'Sorento AWD' 'Sorento Hybrid AWD' 'Soul'\n",
      " 'Sportage' 'Sportage AWD' 'Sportage Hybrid AWD' 'Stinger AWD'\n",
      " 'Telluride AWD' 'Huracán EVO Coupe' 'Huracán EVO Coupe AWD'\n",
      " 'Huracán EVO Spyder' 'Huracán EVO Spyder AWD' 'Urus Performante' 'Urus S'\n",
      " 'Defender 90 P300' 'Defender 90 P400' 'Defender 90 5.0L V8'\n",
      " 'Defender 110 P300' 'Defender 110 P400' 'Defender 110 5.0L V8'\n",
      " 'Discovery P300' 'Discovery P360' 'Discovery Sport P250'\n",
      " 'Range Rover P400' 'Range Rover P400 LWB' 'Range Rover P530'\n",
      " 'Range Rover P530 LWB' 'Range Rover Sport P360'\n",
      " 'Range Rover Sport HST P400' 'Range Rover Sport P530'\n",
      " 'Range Rover Evoque P250' 'Range Rover Evoque P300'\n",
      " 'Range Rover Velar P250' 'Range Rover Velar P340'\n",
      " 'Range Rover Velar P400' 'ES 250 AWD' 'ES 300h' 'ES 350' 'ES 350 F SPORT'\n",
      " 'GX 460' 'IS 300' 'IS 300 AWD' 'IS 350 AWD' 'IS 500' 'LC 500'\n",
      " 'LC 500 Convertible' 'LC 500h' 'LS 500 AWD' 'LS 500h AWD' 'LX 600'\n",
      " 'NX 250 AWD' 'NX 350 AWD' 'NX 350 AWD F SPORT' 'NX 350h AWD' 'RC 300 AWD'\n",
      " 'RC 350 AWD' 'RC F' 'RX 350 AWD' 'RX 350h AWD' 'RX 500h AWD'\n",
      " 'UX 250h AWD' 'Aviator AWD' 'Aviator AWD (Without Stop-Start)'\n",
      " 'Corsair AWD' 'Nautilus AWD' 'Navigator 4X4'\n",
      " 'Navigator 4X4 (Without Stop-Start)' 'Ghibli GT' 'Ghibli Modena'\n",
      " 'Ghibli Modena AWD' 'Ghibli Trofeo' 'Grecale GT' 'Grecale Modena'\n",
      " 'Grecale Trofeo' 'Levante GT' 'Levante Modena' 'Levante Modena V8'\n",
      " 'Levante Trofeo' 'MC20' 'MC20 Spyder' 'Quattroporte GT'\n",
      " 'Quattroporte Modena' 'Quattroporte Modena AWD' 'Quattroporte Trofeo'\n",
      " 'CX-30 4WD' 'CX-30 Turbo 4WD' 'CX-5 4WD' 'CX-5 Turbo 4WD' 'CX-50 4WD'\n",
      " 'CX-50 Turbo 4WD' 'CX-9 4WD' 'Mazda3 4-Door' 'Mazda3 4-Door (SIL)'\n",
      " 'Mazda3 4-Door 4WD' 'Mazda3 4-Door Turbo 4WD' 'Mazda3 5-Door'\n",
      " 'Mazda3 5-Door (SIL)' 'Mazda3 5-Door 4WD' 'Mazda3 5-Door Turbo 4WD'\n",
      " 'MX-5' 'MX-5 (SIL)' 'AMG C 43 4MATIC Cabriolet' 'AMG C 43 4MATIC Coupe'\n",
      " 'AMG C 43 4MATIC Sedan' 'AMG CLA 35 4MATIC Coupe'\n",
      " 'AMG CLA 45 4MATIC Coupe' 'AMG CLS 53 4MATIC+ Coupe'\n",
      " 'AMG E 53 4MATIC+ Sedan' 'AMG E 53 4MATIC+ Cabriolet'\n",
      " 'AMG E 53 4MATIC+ Coupe' 'AMG E 63 4MATIC+ All-Terrain Wagon'\n",
      " 'AMG E 63 S 4MATIC+ Sedan' 'AMG G 63 SUV' 'AMG G 63 4x4 Squared SUV'\n",
      " 'AMG GLA 35 4MATIC SUV' 'AMG GLA 45 4MATIC SUV' 'AMG GLB 35 4MATIC SUV'\n",
      " 'AMG GLC 43 4MATIC Coupe' 'AMG GLE 53 4MATIC+ SUV'\n",
      " 'AMG GLE 53 4MATIC+ Coupe' 'AMG GLE 63 S 4MATIC+ SUV'\n",
      " 'AMG GLE 63 S 4MATIC+ Coupe' 'AMG GLS 63 4MATIC+ SUV'\n",
      " 'AMG GT 53 4MATIC+ Coupe' 'AMG GT 63 4MATIC+ Coupe'\n",
      " 'AMG GT 63 S 4MATIC+ Coupe' 'AMG SL 63 4MATIC+ Roadster'\n",
      " 'C 300 4MATIC Cabriolet' 'C 300 4MATIC Coupe' 'C 300 4MATIC Sedan'\n",
      " 'CLA 250 4MATIC Coupe' 'CLS 450 4MATIC Coupe' 'E 350 4MATIC Sedan'\n",
      " 'E 450 4MATIC Cabriolet' 'E 450 4MATIC Coupe' 'E 450 4MATIC Sedan'\n",
      " 'E 450 4MATIC All-Terrain Wagon' 'G 550 SUV' 'GLA 250 4MATIC SUV'\n",
      " 'GLB 250 4MATIC SUV' 'GLC 300 4MATIC SUV' 'GLC 300 4MATIC Coupe'\n",
      " 'GLE 350 4MATIC SUV' 'GLE 450 4MATIC SUV' 'GLE 450 4MATIC Coupe'\n",
      " 'GLS 450 4MATIC SUV' 'GLS 580 4MATIC SUV' 'GLS 600 4MATIC Maybach SUV'\n",
      " 'Maybach S 580 4MATIC Sedan' 'Maybach S 680 4MATIC Sedan'\n",
      " 'Metris Cargo Van' 'Metris Cargo Van LWB' 'Metris Passenger Van'\n",
      " 'S 500 4MATIC Sedan' 'S 580 4MATIC Sedan' 'Cooper 3 Door' 'Cooper 5 Door'\n",
      " 'Cooper Clubman ALL4' 'Cooper Convertible' 'Cooper Countryman'\n",
      " 'Cooper Countryman ALL4' 'Cooper S 3 Door' 'Cooper S 5 Door'\n",
      " 'Cooper S Clubman' 'Cooper S Clubman ALL4' 'Cooper S Convertible'\n",
      " 'Cooper S Countryman' 'Cooper S Countryman ALL4'\n",
      " 'John Cooper Works 3 Door' 'John Cooper Works Clubman ALL4'\n",
      " 'John Cooper Works Convertible' 'John Cooper Works Countryman ALL4'\n",
      " 'Eclipse Cross 4WD' 'Mirage' 'Outlander 4WD' 'RVR' 'RVR 4WD' 'Altima AWD'\n",
      " 'Altima AWD SR/Platinum' 'Armada 4WD' 'Frontier' 'Frontier 4WD'\n",
      " 'Frontier 4WD Pro-4X' 'GT-R' 'Kicks' 'Maxima' 'Murano AWD'\n",
      " 'Pathfinder 4WD' 'Pathfinder 4WD Rock Creek' 'Qashqai' 'Qashqai AWD'\n",
      " 'Rogue' 'Rogue AWD' 'Rogue AWD SL/Platinum' 'Sentra' 'Sentra SR' 'Versa'\n",
      " 'Z' '911 Carrera' '911 Carrera Cabriolet' '911 Carrera S'\n",
      " '911 Carrera S Cabriolet' '1500 eTorque' '1500 4X4 EcoDiesel'\n",
      " '1500 4X4 eTorque' '1500 4X4' '1500 4X4 TRX' '1500 Classic'\n",
      " '1500 Classic 4X4' 'Cullinan' 'Cullinan Black Badge' 'Ghost'\n",
      " 'Ghost Black Badge' 'Ghost Extended' 'Phantom' 'Phantom Extended'\n",
      " 'Ascent AWD' 'BRZ' 'Crosstrek AWD' 'Forester AWD'\n",
      " 'Forester Wilderness AWD' 'Impreza 5-Door AWD' 'Legacy AWD' 'Outback AWD'\n",
      " 'Outback Wilderness AWD' 'WRX AWD' '4Runner 4WD'\n",
      " '4Runner 4WD (Part-Time 4WD)' 'Camry SE' 'Camry XSE V6/TRD'\n",
      " 'Camry AWD SE' 'Camry AWD XSE' 'Camry Hybrid LE'\n",
      " 'Camry Hybrid SE/XLE/XSE' 'Corolla (1-mode)' 'Corolla (3-mode)'\n",
      " 'Corolla Hatchback' 'Corolla Hybrid' 'Corolla Hybrid AWD (2-mode)'\n",
      " 'Corolla Hybrid AWD (3-mode)' 'Corolla Cross' 'Corolla Cross AWD'\n",
      " 'Corolla Cross Hybrid AWD' 'Crown AWD' 'GR Corolla' 'GR Supra 2.0'\n",
      " 'GR Supra 3.0' 'GR86' 'Highlander AWD' 'Highlander Hybrid AWD'\n",
      " 'Highlander Hybrid AWD Limited/Platinum' 'Prius AWD' 'RAV4' 'RAV4 AWD'\n",
      " 'RAV4 AWD (Stop/Start)' 'RAV4 AWD LE' 'RAV4 Hybrid AWD' 'Sequoia 4WD'\n",
      " 'Sienna' 'Sienna AWD' 'Tacoma 4WD' 'Tacoma 4WD D-Cab TRD Off-Road/PRO'\n",
      " 'Tundra' 'Tundra 4WD' 'Tundra 4WD TRD' 'Tundra Hybrid 4WD'\n",
      " 'Tundra Hybrid 4WD TRD PRO' 'Venza AWD' 'Atlas' 'Atlas 4MOTION'\n",
      " 'Atlas Cross Sport' 'Atlas Cross Sport 4MOTION' 'Golf GTI' 'Golf R'\n",
      " 'Jetta' 'Jetta Comfortline/Highline' 'Jetta GLI' 'Taos' 'Taos 4MOTION'\n",
      " 'Tiguan 4MOTION' 'Tiguan R-Line 4MOTION' 'S60 B5' 'S60 B5 AWD'\n",
      " 'S90 B6 AWD' 'V60 B6 AWD' 'V60 CC B5 AWD' 'V90 CC B6 AWD' 'XC40 B4 AWD'\n",
      " 'XC40 B5 AWD' 'XC60 B5 AWD' 'XC60 B6 AWD' 'XC90 B5 AWD' 'XC90 B6 AWD' nan]\n"
     ]
    }
   ],
   "source": [
    "print(dataset['Model'].unique())\n"
   ]
  },
  {
   "cell_type": "code",
   "execution_count": 22,
   "id": "b081e71e",
   "metadata": {},
   "outputs": [
    {
     "name": "stdout",
     "output_type": "stream",
     "text": [
      "                                    Unique_Values  Record_Count\n",
      "0                                         Mustang             5\n",
      "1                  F-150 FFV (Without Stop-Start)             4\n",
      "2                                 Civic Hatchback             4\n",
      "3                     Sierra 4WD Mud Terrain Tire             4\n",
      "4                                       F-150 FFV             4\n",
      "..                                            ...           ...\n",
      "652                    F-150 (Without Stop-Start)             1\n",
      "653                           Explorer Hybrid AWD             1\n",
      "654  Explorer Timberline AWD (Without Stop-Start)             1\n",
      "655                       Explorer Timberline AWD             1\n",
      "656                                   XC90 B6 AWD             1\n",
      "\n",
      "[657 rows x 2 columns]\n"
     ]
    }
   ],
   "source": [
    "display_unique_values(dataset,'Model')\n"
   ]
  },
  {
   "cell_type": "code",
   "execution_count": 23,
   "id": "865c4573",
   "metadata": {},
   "outputs": [
    {
     "data": {
      "text/plain": [
       "<Axes: xlabel='count', ylabel='Year'>"
      ]
     },
     "execution_count": 23,
     "metadata": {},
     "output_type": "execute_result"
    },
    {
     "data": {
      "image/png": "[encoded data removed]",
      "text/plain": [
       "<Figure size 640x480 with 1 Axes>"
      ]
     },
     "metadata": {},
     "output_type": "display_data"
    }
   ],
   "source": [
    "sns.countplot(y=dataset['Year'])\n"
   ]
  },
  {
   "cell_type": "code",
   "execution_count": null,
   "id": "608d1390",
   "metadata": {},
   "outputs": [],
   "source": []
  },
  {
   "cell_type": "code",
   "execution_count": null,
   "id": "a3998c4a",
   "metadata": {},
   "outputs": [],
   "source": []
  },
  {
   "cell_type": "code",
   "execution_count": 24,
   "id": "43345de7",
   "metadata": {},
   "outputs": [
    {
     "data": {
      "text/plain": [
       "<Axes: xlabel='Year', ylabel='count'>"
      ]
     },
     "execution_count": 24,
     "metadata": {},
     "output_type": "execute_result"
    },
    {
     "data": {
      "image/png": "[encoded data removed]",
      "text/plain": [
       "<Figure size 640x480 with 1 Axes>"
      ]
     },
     "metadata": {},
     "output_type": "display_data"
    }
   ],
   "source": [
    "# lt.figure(figsize=(20,9))\n",
    "sns.countplot(x=dataset['Year'])"
   ]
  },
  {
   "cell_type": "code",
   "execution_count": 25,
   "id": "dd82c5e5",
   "metadata": {},
   "outputs": [
    {
     "name": "stdout",
     "output_type": "stream",
     "text": [
      "Fuel Type\n",
      "Z    431\n",
      "X    390\n",
      "D     20\n",
      "E     15\n",
      "Name: count, dtype: int64\n"
     ]
    }
   ],
   "source": [
    "dataset['Fuel Type'] = dataset['Fuel Type'].fillna(dataset['Fuel Type'].mode()[0])\n",
    "print(dataset['Fuel Type'].value_counts())\n"
   ]
  },
  {
   "cell_type": "code",
   "execution_count": 26,
   "id": "b260ce66",
   "metadata": {},
   "outputs": [
    {
     "name": "stdout",
     "output_type": "stream",
     "text": [
      "category\n"
     ]
    }
   ],
   "source": [
    "dataset['Year'] = dataset['Year'].astype('category')\n",
    "print(dataset['Year'].dtype)\n"
   ]
  },
  {
   "cell_type": "code",
   "execution_count": 27,
   "id": "a1455fb5",
   "metadata": {},
   "outputs": [
    {
     "name": "stdout",
     "output_type": "stream",
     "text": [
      "   Fuel Consumption (L/100Km)  Hwy (L/100 km)  Avg Fuel Consumption (L/100km)\n",
      "0                         7.9             6.3                             7.1\n",
      "1                         8.1             6.5                             7.3\n",
      "2                         8.9             6.5                             7.7\n",
      "3                        12.6             9.4                            11.0\n",
      "4                        13.8            11.2                            12.5\n"
     ]
    }
   ],
   "source": [
    "dataset['Avg Fuel Consumption (L/100km)'] = (dataset['Fuel Consumption (L/100Km)'] + dataset['Hwy (L/100 km)']) / 2\n",
    "print(dataset[['Fuel Consumption (L/100Km)', 'Hwy (L/100 km)', 'Avg Fuel Consumption (L/100km)']].head())\n"
   ]
  },
  {
   "cell_type": "code",
   "execution_count": 28,
   "id": "d7422caa",
   "metadata": {},
   "outputs": [
    {
     "name": "stdout",
     "output_type": "stream",
     "text": [
      "Index(['Year', 'Make', 'Model', 'Vehicle Class', 'Engine Size (L)',\n",
      "       'Cylinders', 'Transmission', 'Fuel Type', 'Fuel Consumption (L/100Km)',\n",
      "       'Comb (L/100 km)', 'Comb (mpg)', 'CO2 Emissions (g/km)', 'CO2 Rating',\n",
      "       'Smog Rating', 'Avg Fuel Consumption (L/100km)'],\n",
      "      dtype='object')\n"
     ]
    }
   ],
   "source": [
    "dataset.drop(['Hwy (L/100 km)'], axis=1, inplace=True)\n",
    "print(dataset.columns)\n"
   ]
  },
  {
   "cell_type": "code",
   "execution_count": 29,
   "id": "8e147f0f",
   "metadata": {},
   "outputs": [
    {
     "name": "stdout",
     "output_type": "stream",
     "text": [
      "Engine Size Category\n",
      "Small         483\n",
      "Medium        165\n",
      "Large          92\n",
      "Very Small     47\n",
      "Very Large     46\n",
      "Name: count, dtype: int64\n"
     ]
    }
   ],
   "source": [
    "bins = [0, 1.5, 3.0, 4.5, 6.0, 8.0]\n",
    "labels = ['Very Small', 'Small', 'Medium', 'Large', 'Very Large']\n",
    "dataset['Engine Size Category'] = pd.cut(dataset['Engine Size (L)'], bins=bins, labels=labels)\n",
    "print(dataset['Engine Size Category'].value_counts())\n"
   ]
  },
  {
   "cell_type": "code",
   "execution_count": 30,
   "id": "06226564",
   "metadata": {},
   "outputs": [
    {
     "name": "stdout",
     "output_type": "stream",
     "text": [
      "   Year   Make              Model  Vehicle Class  Engine Size (L)  Cylinders  \\\n",
      "0  2023  Acura            Integra      Full-size              1.5        4.0   \n",
      "1  2023  Acura     Integra A-SPEC      Full-size              1.5        4.0   \n",
      "2  2023  Acura     Integra A-SPEC      Full-size              1.5        4.0   \n",
      "3  2023  Acura         MDX SH-AWD     SUV: Small              3.5        6.0   \n",
      "4  2023  Acura  MDX SH-AWD Type S  SUV: Standard              3.0        6.0   \n",
      "\n",
      "  Transmission Fuel Type  Fuel Consumption (L/100Km)  Comb (L/100 km)  ...  \\\n",
      "0          AV7         Z                         7.9              7.2  ...   \n",
      "1          AV7         Z                         8.1              7.4  ...   \n",
      "2           M6         Z                         8.9              7.8  ...   \n",
      "3         AS10         Z                        12.6             11.2  ...   \n",
      "4         AS10         Z                        13.8             12.4  ...   \n",
      "\n",
      "   Class_Minivan  Class_Pickup truck: Small  Class_Pickup truck: Standard  \\\n",
      "0          False                      False                         False   \n",
      "1          False                      False                         False   \n",
      "2          False                      False                         False   \n",
      "3          False                      False                         False   \n",
      "4          False                      False                         False   \n",
      "\n",
      "   Class_SUV: Small  Class_SUV: Standard Class_Special purpose vehicle  \\\n",
      "0             False                False                         False   \n",
      "1             False                False                         False   \n",
      "2             False                False                         False   \n",
      "3              True                False                         False   \n",
      "4             False                 True                         False   \n",
      "\n",
      "   Class_Station wagon: Mid-size  Class_Station wagon: Small  \\\n",
      "0                          False                       False   \n",
      "1                          False                       False   \n",
      "2                          False                       False   \n",
      "3                          False                       False   \n",
      "4                          False                       False   \n",
      "\n",
      "   Class_Subcompact  Class_Two-seater  \n",
      "0             False             False  \n",
      "1             False             False  \n",
      "2             False             False  \n",
      "3             False             False  \n",
      "4             False             False  \n",
      "\n",
      "[5 rows x 30 columns]\n"
     ]
    }
   ],
   "source": [
    "vehicle_class_dummies = pd.get_dummies(dataset['Vehicle Class'], prefix='Class')\n",
    "dataset = pd.concat([dataset, vehicle_class_dummies], axis=1)\n",
    "print(dataset.head())\n"
   ]
  },
  {
   "cell_type": "code",
   "execution_count": 31,
   "id": "8ae1f4be",
   "metadata": {},
   "outputs": [
    {
     "name": "stdout",
     "output_type": "stream",
     "text": [
      "   CO2 Emissions (g/km)\n",
      "0              0.125000\n",
      "1              0.134921\n",
      "2              0.152778\n",
      "3              0.315476\n",
      "4              0.371032\n"
     ]
    }
   ],
   "source": [
    "from sklearn.preprocessing import MinMaxScaler\n",
    "scaler = MinMaxScaler()\n",
    "dataset['CO2 Emissions (g/km)'] = scaler.fit_transform(dataset[['CO2 Emissions (g/km)']])\n",
    "print(dataset[['CO2 Emissions (g/km)']].head())\n"
   ]
  },
  {
   "cell_type": "code",
   "execution_count": null,
   "id": "bba48327",
   "metadata": {},
   "outputs": [],
   "source": []
  }
 ],
 "metadata": {
  "kernelspec": {
   "display_name": "Python 3 (ipykernel)",
   "language": "python",
   "name": "python3"
  },
  "language_info": {
   "codemirror_mode": {
    "name": "ipython",
    "version": 3
   },
   "file_extension": ".py",
   "mimetype": "text/x-python",
   "name": "python",
   "nbconvert_exporter": "python",
   "pygments_lexer": "ipython3",
   "version": "3.11.5"
  }
 },
 "nbformat": 4,
 "nbformat_minor": 5
}
